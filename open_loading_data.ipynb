{
 "cells": [
  {
   "cell_type": "code",
   "execution_count": 11,
   "metadata": {},
   "outputs": [],
   "source": [
    "import pandas as pd\n",
    "import numpy as np\n",
    "import matplotlib.pyplot as plt\n",
    "import seaborn as sns\n",
    "import plotly.express as px\n",
    "import sklearn as svn\n",
    "%matplotlib inline\n",
    "\n",
    "from PIL import Image\n",
    "import plotly.graph_objects as go\n",
    "from plotly.subplots import make_subplots\n",
    "import plotly.figure_factory as ff\n",
    "from prettytable import PrettyTable\n",
    "from PIL import Image, ImageDraw, ImageFont"
   ]
  },
  {
   "cell_type": "code",
   "execution_count": 12,
   "metadata": {},
   "outputs": [],
   "source": [
    "data = pd.read_csv('MGH_COVID_Clinical_Info.txt', sep=';')"
   ]
  },
  {
   "attachments": {},
   "cell_type": "markdown",
   "metadata": {},
   "source": [
    "## Sanity check\n",
    "**head**\n",
    "**NA**\n",
    "**Duplicated**\n"
   ]
  },
  {
   "cell_type": "code",
   "execution_count": 13,
   "metadata": {},
   "outputs": [
    {
     "data": {
      "text/html": [
       "<div>\n",
       "<style scoped>\n",
       "    .dataframe tbody tr th:only-of-type {\n",
       "        vertical-align: middle;\n",
       "    }\n",
       "\n",
       "    .dataframe tbody tr th {\n",
       "        vertical-align: top;\n",
       "    }\n",
       "\n",
       "    .dataframe thead th {\n",
       "        text-align: right;\n",
       "    }\n",
       "</style>\n",
       "<table border=\"1\" class=\"dataframe\">\n",
       "  <thead>\n",
       "    <tr style=\"text-align: right;\">\n",
       "      <th></th>\n",
       "      <th>subject_id</th>\n",
       "      <th>COVID</th>\n",
       "      <th>Age_cat</th>\n",
       "      <th>BMI_cat</th>\n",
       "      <th>HEART</th>\n",
       "      <th>LUNG</th>\n",
       "      <th>KIDNEY</th>\n",
       "      <th>DIABETES</th>\n",
       "      <th>HTN</th>\n",
       "      <th>IMMUNO</th>\n",
       "      <th>...</th>\n",
       "      <th>crp_3_cat</th>\n",
       "      <th>ddimer_3_cat</th>\n",
       "      <th>ldh_3_cat</th>\n",
       "      <th>abs_neut_7_cat</th>\n",
       "      <th>abs_lymph_7_cat</th>\n",
       "      <th>abs_mono_7_cat</th>\n",
       "      <th>creat_7_cat</th>\n",
       "      <th>crp_7_cat</th>\n",
       "      <th>ddimer_7_cat</th>\n",
       "      <th>ldh_7_cat</th>\n",
       "    </tr>\n",
       "  </thead>\n",
       "  <tbody>\n",
       "    <tr>\n",
       "      <th>0</th>\n",
       "      <td>1</td>\n",
       "      <td>1</td>\n",
       "      <td>1</td>\n",
       "      <td>4</td>\n",
       "      <td>0</td>\n",
       "      <td>0</td>\n",
       "      <td>0</td>\n",
       "      <td>0</td>\n",
       "      <td>0</td>\n",
       "      <td>0</td>\n",
       "      <td>...</td>\n",
       "      <td>1.0</td>\n",
       "      <td>1.0</td>\n",
       "      <td>1.0</td>\n",
       "      <td>NaN</td>\n",
       "      <td>NaN</td>\n",
       "      <td>NaN</td>\n",
       "      <td>NaN</td>\n",
       "      <td>NaN</td>\n",
       "      <td>NaN</td>\n",
       "      <td>NaN</td>\n",
       "    </tr>\n",
       "    <tr>\n",
       "      <th>1</th>\n",
       "      <td>2</td>\n",
       "      <td>1</td>\n",
       "      <td>2</td>\n",
       "      <td>2</td>\n",
       "      <td>0</td>\n",
       "      <td>0</td>\n",
       "      <td>0</td>\n",
       "      <td>0</td>\n",
       "      <td>0</td>\n",
       "      <td>0</td>\n",
       "      <td>...</td>\n",
       "      <td>2.0</td>\n",
       "      <td>NaN</td>\n",
       "      <td>NaN</td>\n",
       "      <td>NaN</td>\n",
       "      <td>NaN</td>\n",
       "      <td>NaN</td>\n",
       "      <td>NaN</td>\n",
       "      <td>NaN</td>\n",
       "      <td>NaN</td>\n",
       "      <td>NaN</td>\n",
       "    </tr>\n",
       "  </tbody>\n",
       "</table>\n",
       "<p>2 rows × 44 columns</p>\n",
       "</div>"
      ],
      "text/plain": [
       "   subject_id  COVID  Age_cat  BMI_cat  HEART  LUNG  KIDNEY  DIABETES  HTN  \\\n",
       "0           1      1        1        4      0     0       0         0    0   \n",
       "1           2      1        2        2      0     0       0         0    0   \n",
       "\n",
       "   IMMUNO  ...  crp_3_cat  ddimer_3_cat  ldh_3_cat  abs_neut_7_cat  \\\n",
       "0       0  ...        1.0           1.0        1.0             NaN   \n",
       "1       0  ...        2.0           NaN        NaN             NaN   \n",
       "\n",
       "   abs_lymph_7_cat  abs_mono_7_cat  creat_7_cat  crp_7_cat  ddimer_7_cat  \\\n",
       "0              NaN             NaN          NaN        NaN           NaN   \n",
       "1              NaN             NaN          NaN        NaN           NaN   \n",
       "\n",
       "   ldh_7_cat  \n",
       "0        NaN  \n",
       "1        NaN  \n",
       "\n",
       "[2 rows x 44 columns]"
      ]
     },
     "execution_count": 13,
     "metadata": {},
     "output_type": "execute_result"
    }
   ],
   "source": [
    "data.head(2)"
   ]
  },
  {
   "cell_type": "code",
   "execution_count": 7,
   "metadata": {},
   "outputs": [
    {
     "data": {
      "text/plain": [
       "0"
      ]
     },
     "execution_count": 7,
     "metadata": {},
     "output_type": "execute_result"
    }
   ],
   "source": [
    "data.duplicated().sum()"
   ]
  },
  {
   "cell_type": "code",
   "execution_count": 14,
   "metadata": {},
   "outputs": [
    {
     "data": {
      "text/plain": [
       "subject_id           0\n",
       "COVID                0\n",
       "Age_cat              0\n",
       "BMI_cat              0\n",
       "HEART                0\n",
       "LUNG                 0\n",
       "KIDNEY               0\n",
       "DIABETES             0\n",
       "HTN                  0\n",
       "IMMUNO               0\n",
       "Resp_Symp            0\n",
       "Fever_Sympt          0\n",
       "GI_Symp              0\n",
       "D0_draw              1\n",
       "D3_draw              1\n",
       "D7_draw              1\n",
       "DE_draw              1\n",
       "Acuity_0             0\n",
       "Acuity_3             0\n",
       "Acuity_7             0\n",
       "Acuity_28            0\n",
       "Acuity_max           0\n",
       "abs_neut_0_cat       4\n",
       "abs_lymph_0_cat      5\n",
       "abs_mono_0_cat       8\n",
       "creat_0_cat          3\n",
       "crp_0_cat           18\n",
       "ddimer_0_cat        26\n",
       "ldh_0_cat           22\n",
       "Trop_72h             0\n",
       "abs_neut_3_cat     106\n",
       "abs_lymph_3_cat    107\n",
       "abs_mono_3_cat     110\n",
       "creat_3_cat        105\n",
       "crp_3_cat          156\n",
       "ddimer_3_cat       175\n",
       "ldh_3_cat          191\n",
       "abs_neut_7_cat     205\n",
       "abs_lymph_7_cat    206\n",
       "abs_mono_7_cat     206\n",
       "creat_7_cat        193\n",
       "crp_7_cat          240\n",
       "ddimer_7_cat       251\n",
       "ldh_7_cat          269\n",
       "dtype: int64"
      ]
     },
     "execution_count": 14,
     "metadata": {},
     "output_type": "execute_result"
    }
   ],
   "source": [
    "data.isna().sum()"
   ]
  },
  {
   "cell_type": "code",
   "execution_count": 15,
   "metadata": {},
   "outputs": [],
   "source": [
    "##droping the only one NaN in D0_draw\n",
    "df = data.drop(383)"
   ]
  },
  {
   "attachments": {},
   "cell_type": "markdown",
   "metadata": {},
   "source": [
    "### For this study, what is important is to identify the key elements that would affect on patient's prognosis when arrive at the clinic (D0_Draw = 1)"
   ]
  },
  {
   "cell_type": "code",
   "execution_count": 16,
   "metadata": {},
   "outputs": [],
   "source": [
    "## Generation of dataframe with individuals that were COVID19 positive and started the study at day 0\n",
    "df=df.loc[(df['COVID']==1)&(df['D0_draw']==1)]"
   ]
  },
  {
   "attachments": {},
   "cell_type": "markdown",
   "metadata": {},
   "source": [
    "**Dropping the corresponding subject with NaN values.**"
   ]
  },
  {
   "cell_type": "code",
   "execution_count": 20,
   "metadata": {},
   "outputs": [],
   "source": [
    "df2 = df.dropna(subset=['abs_neut_0_cat','abs_lymph_0_cat',\n",
    "                        'abs_mono_0_cat','creat_0_cat',\n",
    "                        'crp_0_cat','ddimer_0_cat',\n",
    "                       'ldh_0_cat','ldh_0_cat'])"
   ]
  },
  {
   "cell_type": "code",
   "execution_count": 21,
   "metadata": {},
   "outputs": [
    {
     "name": "stdout",
     "output_type": "stream",
     "text": [
      "<class 'pandas.core.frame.DataFrame'>\n",
      "Int64Index: 281 entries, 0 to 382\n",
      "Data columns (total 44 columns):\n",
      " #   Column           Non-Null Count  Dtype  \n",
      "---  ------           --------------  -----  \n",
      " 0   subject_id       281 non-null    int64  \n",
      " 1   COVID            281 non-null    int64  \n",
      " 2   Age_cat          281 non-null    int64  \n",
      " 3   BMI_cat          281 non-null    int64  \n",
      " 4   HEART            281 non-null    int64  \n",
      " 5   LUNG             281 non-null    int64  \n",
      " 6   KIDNEY           281 non-null    int64  \n",
      " 7   DIABETES         281 non-null    int64  \n",
      " 8   HTN              281 non-null    int64  \n",
      " 9   IMMUNO           281 non-null    int64  \n",
      " 10  Resp_Symp        281 non-null    int64  \n",
      " 11  Fever_Sympt      281 non-null    int64  \n",
      " 12  GI_Symp          281 non-null    int64  \n",
      " 13  D0_draw          281 non-null    float64\n",
      " 14  D3_draw          281 non-null    float64\n",
      " 15  D7_draw          281 non-null    float64\n",
      " 16  DE_draw          281 non-null    float64\n",
      " 17  Acuity_0         281 non-null    int64  \n",
      " 18  Acuity_3         281 non-null    int64  \n",
      " 19  Acuity_7         281 non-null    int64  \n",
      " 20  Acuity_28        281 non-null    int64  \n",
      " 21  Acuity_max       281 non-null    int64  \n",
      " 22  abs_neut_0_cat   281 non-null    float64\n",
      " 23  abs_lymph_0_cat  281 non-null    float64\n",
      " 24  abs_mono_0_cat   281 non-null    float64\n",
      " 25  creat_0_cat      281 non-null    float64\n",
      " 26  crp_0_cat        281 non-null    float64\n",
      " 27  ddimer_0_cat     281 non-null    float64\n",
      " 28  ldh_0_cat        281 non-null    float64\n",
      " 29  Trop_72h         281 non-null    int64  \n",
      " 30  abs_neut_3_cat   221 non-null    float64\n",
      " 31  abs_lymph_3_cat  220 non-null    float64\n",
      " 32  abs_mono_3_cat   218 non-null    float64\n",
      " 33  creat_3_cat      216 non-null    float64\n",
      " 34  crp_3_cat        193 non-null    float64\n",
      " 35  ddimer_3_cat     183 non-null    float64\n",
      " 36  ldh_3_cat        166 non-null    float64\n",
      " 37  abs_neut_7_cat   143 non-null    float64\n",
      " 38  abs_lymph_7_cat  142 non-null    float64\n",
      " 39  abs_mono_7_cat   142 non-null    float64\n",
      " 40  creat_7_cat      148 non-null    float64\n",
      " 41  crp_7_cat        126 non-null    float64\n",
      " 42  ddimer_7_cat     119 non-null    float64\n",
      " 43  ldh_7_cat        102 non-null    float64\n",
      "dtypes: float64(25), int64(19)\n",
      "memory usage: 98.8 KB\n"
     ]
    }
   ],
   "source": [
    "df2.info()"
   ]
  },
  {
   "attachments": {},
   "cell_type": "markdown",
   "metadata": {},
   "source": [
    "**There are in total 281 individuals that were COVID positive and elegible for this study**"
   ]
  },
  {
   "cell_type": "code",
   "execution_count": 22,
   "metadata": {},
   "outputs": [],
   "source": [
    "df2.to_csv('COVID_pos.csv')"
   ]
  },
  {
   "cell_type": "markdown",
   "metadata": {},
   "source": []
  }
 ],
 "metadata": {
  "kernelspec": {
   "display_name": "Python 3",
   "language": "python",
   "name": "python3"
  },
  "language_info": {
   "codemirror_mode": {
    "name": "ipython",
    "version": 3
   },
   "file_extension": ".py",
   "mimetype": "text/x-python",
   "name": "python",
   "nbconvert_exporter": "python",
   "pygments_lexer": "ipython3",
   "version": "3.9.13"
  },
  "orig_nbformat": 4
 },
 "nbformat": 4,
 "nbformat_minor": 2
}
