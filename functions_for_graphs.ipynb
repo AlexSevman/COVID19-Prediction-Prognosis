{
 "cells": [
  {
   "cell_type": "code",
   "execution_count": 2,
   "metadata": {},
   "outputs": [],
   "source": [
    "##Generation of a beauti-table\n",
    "def beautitable(data):\n",
    "    table = PrettyTable(['Variable',\n",
    "                         'Data_type',\n",
    "                         'Non-NaN',\n",
    "                         'NaN',\n",
    "                         'Unique',\n",
    "                         'Example',\n",
    "                        'Median',\n",
    "                        'Max',\n",
    "                        'Min'])\n",
    "    for i in data.columns:\n",
    "        table.add_row([i, \n",
    "                       data[i].dtype,\n",
    "                       len(data[i]) - np.sum(data[i].isnull()),\n",
    "                       np.sum(data[i].isnull()),\n",
    "                       np.count_nonzero(data[i].unique()),\n",
    "                       data[~data[i].isnull()][i].iloc[0],\n",
    "                       data[i].median(),\n",
    "                       data[i].max(),\n",
    "                       data[i].min()\n",
    "                    ])\n",
    "    print(table)\n",
    "    print()\n",
    "    return           "
   ]
  },
  {
   "cell_type": "code",
   "execution_count": null,
   "metadata": {},
   "outputs": [],
   "source": []
  }
 ],
 "metadata": {
  "kernelspec": {
   "display_name": "Python 3",
   "language": "python",
   "name": "python3"
  },
  "language_info": {
   "codemirror_mode": {
    "name": "ipython",
    "version": 3
   },
   "file_extension": ".py",
   "mimetype": "text/x-python",
   "name": "python",
   "nbconvert_exporter": "python",
   "pygments_lexer": "ipython3",
   "version": "3.9.13"
  },
  "orig_nbformat": 4
 },
 "nbformat": 4,
 "nbformat_minor": 2
}
